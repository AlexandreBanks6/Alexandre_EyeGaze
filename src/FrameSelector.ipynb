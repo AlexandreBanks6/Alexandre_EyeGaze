{
 "cells": [
  {
   "cell_type": "code",
   "execution_count": 22,
   "metadata": {},
   "outputs": [],
   "source": [
    "import random\n",
    "import os\n",
    "import cv2"
   ]
  },
  {
   "cell_type": "code",
   "execution_count": 23,
   "metadata": {},
   "outputs": [],
   "source": [
    "#Init variables\n",
    "VIDEO_DATA_PATH='E:/Alexandre_EyeGazeProject/eyecorner_userstudy_converted'\n",
    "DST_PATH='E:/Alexandre_EyeGazeProject/new_yolo_data/images'\n",
    "VIDEO_FILE_NAMES=['eyeVideo_Calib_Down.avi','eyeVideo_Calib_Init.avi','eyeVideo_Calib_Left.avi',\\\n",
    "                  'eyeVideo_Calib_Right.avi','eyeVideo_Calib_Up.avi','eyeVideo_Eval_Init.avi',\\\n",
    "                    'eyeVideo_Eval_Right.avi','eyeVideo_Eval_Left.avi','eyeVideo_Eval_Up.avi',\\\n",
    "                    'eyeVideo_Eval_Down.avi','eyeVideo_Eval_Straight.avi']\n",
    "VIDEO_FILE_NAMES_P12=['eyeVideo_Calib_Down.avi','eyeVideo_Calib_Init.avi','eyeVideo_Calib_Left.avi',\\\n",
    "                  'eyeVideo_Calib_Right.avi','eyeVideo_Calib_Up.avi','eyeVideo_Eval_Init.avi',\\\n",
    "                    'eyeVideo_Eval_Up.avi','eyeVideo_Eval_Straight.avi']\n",
    "FRAMES_PER_PARTICIPANT=30"
   ]
  },
  {
   "cell_type": "code",
   "execution_count": 24,
   "metadata": {},
   "outputs": [],
   "source": [
    "subdirs=os.listdir(VIDEO_DATA_PATH)"
   ]
  },
  {
   "cell_type": "code",
   "execution_count": 25,
   "metadata": {},
   "outputs": [],
   "source": [
    "frame_count=1\n",
    "for entry in subdirs:\n",
    "    if entry[0]=='P': #We have a participant\n",
    "        #print(entry)\n",
    "        if entry=='P12':\n",
    "            rand_name=random.choice(VIDEO_FILE_NAMES_P12)\n",
    "        else:\n",
    "            rand_name=random.choice(VIDEO_FILE_NAMES)\n",
    "            \n",
    "        vid_path=VIDEO_DATA_PATH+'/'+entry+'/'+'EyeGaze_Data'+'/'+rand_name\n",
    "        video=cv2.VideoCapture(vid_path)\n",
    "        if(video.isOpened()==False):\n",
    "            print(\"video \"+vid_path+\" cannot be opened\")\n",
    "            continue\n",
    "        num_frames=int(video.get(cv2.CAP_PROP_FRAME_COUNT))\n",
    "        random_frames=random.sample(range(num_frames),FRAMES_PER_PARTICIPANT)\n",
    "        for frame_num in random_frames:\n",
    "            video.set(cv2.CAP_PROP_FRAME_COUNT,frame_num)\n",
    "            ret,frame=video.read()\n",
    "            if not ret:\n",
    "                print('frame not opened correctly')\n",
    "                continue\n",
    "            new_image_name=DST_PATH+'/'+entry+'_v2_'+str(frame_num)+'.jpg'\n",
    "            #print(frame_count)\n",
    "            frame_count+=1\n",
    "            cv2.imwrite(new_image_name,frame)\n",
    "        "
   ]
  }
 ],
 "metadata": {
  "kernelspec": {
   "display_name": "custom_model_venv",
   "language": "python",
   "name": "python3"
  },
  "language_info": {
   "codemirror_mode": {
    "name": "ipython",
    "version": 3
   },
   "file_extension": ".py",
   "mimetype": "text/x-python",
   "name": "python",
   "nbconvert_exporter": "python",
   "pygments_lexer": "ipython3",
   "version": "3.11.4"
  },
  "orig_nbformat": 4
 },
 "nbformat": 4,
 "nbformat_minor": 2
}

{
 "cells": [
  {
   "cell_type": "code",
   "execution_count": 1,
   "metadata": {},
   "outputs": [],
   "source": [
    "import tensorflow as tf"
   ]
  },
  {
   "cell_type": "code",
   "execution_count": null,
   "metadata": {},
   "outputs": [],
   "source": [
    "saved_model_dir=\"E:/Alexandre_EyeGazeProject/Custom_Model_Code/models/FullModel/\"\n",
    "#Convert the model\n",
    "converter=tf.lite.TFLiteConverter.from_saved_model(saved_model_dir=saved_model_dir)\n",
    "tflight_model=converter.convert()\n",
    "\n",
    "#Save the model\n",
    "with open('E:/Alexandre_EyeGazeProject/Custom_Model_Code/models/TFLight/model1.tflit','wb') as f:\n",
    "    f.write(tflight_model)"
   ]
  }
 ],
 "metadata": {
  "kernelspec": {
   "display_name": "custom_model_venv",
   "language": "python",
   "name": "python3"
  },
  "language_info": {
   "codemirror_mode": {
    "name": "ipython",
    "version": 3
   },
   "file_extension": ".py",
   "mimetype": "text/x-python",
   "name": "python",
   "nbconvert_exporter": "python",
   "pygments_lexer": "ipython3",
   "version": "3.11.4"
  },
  "orig_nbformat": 4
 },
 "nbformat": 4,
 "nbformat_minor": 2
}
